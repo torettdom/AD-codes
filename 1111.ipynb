{
  "nbformat": 4,
  "nbformat_minor": 0,
  "metadata": {
    "colab": {
      "provenance": [],
      "authorship_tag": "ABX9TyNcx1IvbzPBVwL5BSaOZ/G+",
      "include_colab_link": true
    },
    "kernelspec": {
      "name": "python3",
      "display_name": "Python 3"
    },
    "language_info": {
      "name": "python"
    }
  },
  "cells": [
    {
      "cell_type": "markdown",
      "metadata": {
        "id": "view-in-github",
        "colab_type": "text"
      },
      "source": [
        "<a href=\"https://colab.research.google.com/github/torettdom/AD-codes/blob/main/1111.ipynb\" target=\"_parent\"><img src=\"https://colab.research.google.com/assets/colab-badge.svg\" alt=\"Open In Colab\"/></a>"
      ]
    },
    {
      "cell_type": "code",
      "execution_count": null,
      "metadata": {
        "id": "RKzjYnQihRTe"
      },
      "outputs": [],
      "source": [
        "#1)Mention about problem statement\n",
        "#2)Talk about columns\n",
        "#3)Install the modules\n",
        "#4)load dataset\n",
        "#5)understand your data\n",
        "#6)EDA\n",
        "#.)univariate analysis\n",
        "#.)Bi-variate analysis\n",
        "#.)Multivariate analysis\n",
        "#7)check the null values or missing values"
      ]
    }
  ]
}